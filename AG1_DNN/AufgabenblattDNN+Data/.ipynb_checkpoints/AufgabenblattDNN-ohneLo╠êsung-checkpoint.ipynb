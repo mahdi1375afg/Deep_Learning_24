{
 "cells": [
  {
   "cell_type": "markdown",
   "id": "8ddc2d45-54dd-498f-837e-d524ce7ae041",
   "metadata": {},
   "source": [
    "## Erstellung eines neuronalen Netzes zur Klassifikation von Musik\n",
    "Wie trainiert man ein neuronales Netzwerk, um das Genre eines Songs zu erkennen? In dieser Aufgabe wird  \n",
    "Schritt für schritt ein neuronales Netzwerk mithilfe von bereitgestellten extrahierten Features trainiert.  \n",
    "Nach dem Training wird die Genauigkeit des Modells überprüft, um festzustellen, wie gut es in der Lage ist,  \n",
    "bestimmte Genres zu erkennen.\n",
    "\n",
    "</div>"
   ]
  },
  {
   "cell_type": "markdown",
   "id": "31c5c787-a1a0-4454-a462-a0015cd4c876",
   "metadata": {
    "tags": []
   },
   "source": [
    "<div class=\"alert alert-block alert-success\">\n",
    "&#128187; <b>Aufgabe 1:</b>\n",
    "    \n",
    "Importieren Sie alle benötigten Bibliotheken.\n",
    "    \n",
    "</div>"
   ]
  },
  {
   "cell_type": "code",
   "execution_count": 1,
   "id": "5f9a96d5-4cdc-4d2d-bb5a-d04490229450",
   "metadata": {
    "tags": []
   },
   "outputs": [],
   "source": [
    "import pandas as pd \n",
    "import numpy as np\n",
    "from sklearn.model_selection import train_test_split\n",
    "from sklearn.preprocessing import LabelEncoder\n",
    "from sklearn.preprocessing import StandardScaler\n",
    "from tensorflow import keras\n",
    "from tensorflow.keras.callbacks import EarlyStopping"
   ]
  },
  {
   "cell_type": "markdown",
   "id": "4e4ad335-5b3b-46f5-b5e1-d5150d83a413",
   "metadata": {
    "tags": []
   },
   "source": [
    "<div class=\"alert alert-block alert-success\">\n",
    "&#128187; <b>Aufgabe 2:</b>\n",
    "    \n",
    "Laden Sie die Datei data.csv mit Hilfe der Pandas-Bibliothek und der Funktion read_csv() in einen Dataframe.\n",
    "Zeigen Sie die ersten Zeilen der CSV an.\n",
    "    \n",
    "</div>"
   ]
  },
  {
   "cell_type": "code",
   "execution_count": null,
   "id": "570825fc-6719-43d7-81ab-6a6059d63663",
   "metadata": {},
   "outputs": [],
   "source": [
    "# code"
   ]
  },
  {
   "cell_type": "markdown",
   "id": "2c1a9426-a9d8-4021-8738-227941a0ded5",
   "metadata": {
    "tags": []
   },
   "source": [
    "<details>\n",
    "  <summary><b>Lösung</b></summary>\n",
    "    \n",
    "```python\n",
    "df=pd.read_csv('./data.csv')\n",
    "df.head()\n",
    "```\n",
    "</details>"
   ]
  },
  {
   "cell_type": "markdown",
   "id": "9d935894-4bae-4f29-91bf-5be42d624fbb",
   "metadata": {
    "tags": []
   },
   "source": [
    "<div class=\"alert alert-block alert-success\">\n",
    "&#128187; <b>Aufgabe 3:</b>\n",
    "    \n",
    "Welche Spalten sind als Features für das neuonale Netz ungeeignet? Entfernen Sie diese Spalten aus dem Dataframe.\n",
    "    \n",
    "</div>"
   ]
  },
  {
   "cell_type": "code",
   "execution_count": null,
   "id": "9e7e9c2e-1aad-4bab-8fd1-ab538a7846ff",
   "metadata": {},
   "outputs": [],
   "source": [
    "# code"
   ]
  },
  {
   "cell_type": "markdown",
   "id": "40ed607e-6047-486d-8676-1557bd9011a6",
   "metadata": {
    "tags": []
   },
   "source": [
    "<details>\n",
    "  <summary><b>Lösung</b></summary>\n",
    "    \n",
    "```python\n",
    "# Drop columns filename and length\n",
    "df=df.drop(['filename', 'length'],axis=1)\n",
    "```\n",
    "</details>"
   ]
  },
  {
   "cell_type": "markdown",
   "id": "99c4a07a-6276-4902-90f9-6ff607a1ea8c",
   "metadata": {
    "tags": []
   },
   "source": [
    "<div class=\"alert alert-block alert-success\">\n",
    "&#128187; <b>Aufgabe 4:</b>\n",
    "    \n",
    "Wandeln Sie die Spalte label mit Hilfe der Bibliothek \"sklearn.preprocessing\" und des \"LabelEncoder()\" in Zahlenwerte um.\n",
    "    \n",
    "</div>"
   ]
  },
  {
   "cell_type": "code",
   "execution_count": 1,
   "id": "a086128f-7dc7-4e30-8685-9e4919a3bc41",
   "metadata": {},
   "outputs": [],
   "source": [
    "# code"
   ]
  },
  {
   "cell_type": "markdown",
   "id": "9a1376f1-d8e4-4d1a-91a0-9aa2a74a8f0d",
   "metadata": {
    "tags": []
   },
   "source": [
    "<details>\n",
    "  <summary><b>Lösung</b></summary>\n",
    "    \n",
    "```python\n",
    "# Encode the label\n",
    "labels=df.iloc[:,-1]\n",
    "encoder=LabelEncoder()\n",
    "y = encoder.fit_transform(labels.values)\n",
    "```\n",
    "</details>"
   ]
  },
  {
   "cell_type": "markdown",
   "id": "ef06f3ee-de2d-4ece-8ebc-7a1996b7d06c",
   "metadata": {
    "tags": []
   },
   "source": [
    "<div class=\"alert alert-block alert-success\">\n",
    "&#128187; <b>Aufgabe 5:</b>\n",
    "    \n",
    "Skalieren Sie alle passenden Werte mit Hilfe der Bibliothek \"sklearn.preprocessing\" und des \"StandardScaler()\".\n",
    "    \n",
    "</div>"
   ]
  },
  {
   "cell_type": "code",
   "execution_count": 1,
   "id": "a2996c86-bc6d-4ce1-9b20-2131a1e00f04",
   "metadata": {},
   "outputs": [],
   "source": [
    "# code"
   ]
  },
  {
   "cell_type": "markdown",
   "id": "4fa73d00-a4fc-4d76-b250-461952f59aa6",
   "metadata": {
    "tags": []
   },
   "source": [
    "<details>\n",
    "  <summary><b>Lösung</b></summary>\n",
    "    \n",
    "```python\n",
    "# Scale all features\n",
    "data = df.iloc[:, :-1]\n",
    "scaler = StandardScaler()\n",
    "X = scaler.fit_transform(data.values)\n",
    "```\n",
    "</details>"
   ]
  },
  {
   "cell_type": "markdown",
   "id": "8b15ecb7-3d4a-4b2a-8ec9-a9c4136ec31a",
   "metadata": {
    "tags": []
   },
   "source": [
    "<div class=\"alert alert-block alert-success\">\n",
    "&#128187; <b>Aufgabe 6:</b>\n",
    "    \n",
    "Teilen Sie das Dataset in Trainings- und Testdaten auf und beschränken Sie die Testdaten auf 10%.\n",
    "    \n",
    "</div>"
   ]
  },
  {
   "cell_type": "code",
   "execution_count": 1,
   "id": "d805a943-d49e-47a7-9203-cfb273ffe382",
   "metadata": {},
   "outputs": [],
   "source": [
    "# code"
   ]
  },
  {
   "cell_type": "markdown",
   "id": "2ab2a519-f83c-49a3-b99c-fa8a48a6d91e",
   "metadata": {
    "tags": []
   },
   "source": [
    "<details>\n",
    "  <summary><b>Lösung</b></summary>\n",
    "    \n",
    "```python\n",
    "# Splitting the Dataset in train/split\n",
    "X_train, X_test, y_train, y_test = train_test_split(X, y, test_size=0.1)\n",
    "```\n",
    "</details>"
   ]
  },
  {
   "cell_type": "markdown",
   "id": "674606eb-bccd-4052-8805-a24a39df3af3",
   "metadata": {
    "tags": []
   },
   "source": [
    "<div class=\"alert alert-block alert-success\">\n",
    "&#128187; <b>Aufgabe 7:</b>\n",
    "    \n",
    "Erstellen Sie mit \"keras.models.Sequential()\" ein Model mit mehreren Layern. Zwischen den Layern soll ein Dropout von 30% und eine BatchNormalization() durchgeführt werden. \n",
    "    \n",
    "</div>"
   ]
  },
  {
   "cell_type": "code",
   "execution_count": 1,
   "id": "f37285ef-2716-4212-9668-132809c5efff",
   "metadata": {},
   "outputs": [],
   "source": [
    "# code"
   ]
  },
  {
   "cell_type": "markdown",
   "id": "d1b0fd0b-c238-47e3-846f-af87e78d5d93",
   "metadata": {
    "tags": []
   },
   "source": [
    "<details>\n",
    "  <summary><b>Lösung</b></summary>\n",
    "    \n",
    "```python\n",
    "model = keras.models.Sequential([\n",
    "    keras.layers.Dense(512,activation='relu', input_shape=(X_train.shape[1],)),\n",
    "    keras.layers.Dropout(0.3),\n",
    "    keras.layers.BatchNormalization(),\n",
    "    keras.layers.Dense(256,activation='relu'),\n",
    "    keras.layers.Dropout(0.3),\n",
    "    keras.layers.BatchNormalization(),\n",
    "    keras.layers.Dense(128,activation='relu'),\n",
    "    keras.layers.Dropout(0.3),\n",
    "    keras.layers.BatchNormalization(),\n",
    "    keras.layers.Dense(64,activation='relu'),\n",
    "    keras.layers.Dropout(0.3),\n",
    "    keras.layers.BatchNormalization(),\n",
    "    keras.layers.Dense(10,activation='softmax'),   \n",
    "])\n",
    "```\n",
    "</details>"
   ]
  },
  {
   "cell_type": "markdown",
   "id": "ebb75f0c-9694-4a53-95b9-b133f99df87d",
   "metadata": {
    "tags": []
   },
   "source": [
    "<div class=\"alert alert-block alert-success\">\n",
    "&#128187; <b>Aufgabe 8:</b>\n",
    "    \n",
    "Konfigurieren Sie das Model so, damit folgende Parameter verwendet werden: optimizer='adam', loss='sparse_categorical_crossentropy', metrics=['accuracy']\n",
    "</div>"
   ]
  },
  {
   "cell_type": "code",
   "execution_count": 1,
   "id": "8000f615-5939-4db8-831f-62baab030bd9",
   "metadata": {},
   "outputs": [],
   "source": [
    "# code"
   ]
  },
  {
   "cell_type": "markdown",
   "id": "30d59a58-5552-4671-9f83-9e266f0ab59c",
   "metadata": {
    "tags": []
   },
   "source": [
    "<details>\n",
    "  <summary><b>Lösung</b></summary>\n",
    "    \n",
    "```python\n",
    "# Add optimizer, loss and metrics\n",
    "model.compile(\n",
    "    optimizer='adam',\n",
    "    loss='sparse_categorical_crossentropy',\n",
    "    metrics=['accuracy']\n",
    ")\n",
    "```\n",
    "</details>"
   ]
  },
  {
   "cell_type": "markdown",
   "id": "d1cc1207-ed38-4113-959f-2267b8122b9d",
   "metadata": {
    "tags": []
   },
   "source": [
    "<div class=\"alert alert-block alert-success\">\n",
    "&#128187; <b>Aufgabe 9:</b>\n",
    "    \n",
    "Trainieren Sie das Model mit 200 Epochen und einer batch_size von 32. Bei Bedarf kann auch ein EarlyStopping Callback eingesetzt werden. Für das Training wird die Methode fit() verwendet.\n",
    "</div>"
   ]
  },
  {
   "cell_type": "code",
   "execution_count": 1,
   "id": "f168ac7e-f81e-44ba-b3c6-04de7af86b86",
   "metadata": {},
   "outputs": [],
   "source": [
    "# code"
   ]
  },
  {
   "cell_type": "markdown",
   "id": "c7510c97-cd93-446d-a1d7-98b187e379a5",
   "metadata": {
    "tags": []
   },
   "source": [
    "<details>\n",
    "  <summary><b>Lösung</b></summary>\n",
    "    \n",
    "```python\n",
    "# Training the model with early stopping\n",
    "history = model.fit(\n",
    "    X_train,\n",
    "    y_train,\n",
    "    epochs=200,\n",
    "    batch_size=32,\n",
    "    callbacks=EarlyStopping(\n",
    "        monitor=\"accuracy\",\n",
    "        min_delta=0.0001,\n",
    "        patience=10,\n",
    "        mode=\"auto\",\n",
    "        restore_best_weights=True,\n",
    "    )\n",
    ")\n",
    "```\n",
    "</details>"
   ]
  },
  {
   "cell_type": "markdown",
   "id": "e083d03d-254d-4e19-9ee7-0d3773475789",
   "metadata": {
    "tags": []
   },
   "source": [
    "<div class=\"alert alert-block alert-success\">\n",
    "&#128187; <b>Aufgabe 10:</b>\n",
    "    \n",
    "Evaluieren Sie das Model mit der evaluate() Methode und geben Sie den 'loss' und die 'accuracy' aus.\n",
    "</div>"
   ]
  },
  {
   "cell_type": "code",
   "execution_count": 1,
   "id": "b357fffe-45d0-4345-8472-e05d4b8b21c7",
   "metadata": {},
   "outputs": [],
   "source": [
    "# code"
   ]
  },
  {
   "cell_type": "markdown",
   "id": "91160803-0810-45d0-830a-095112e1cd18",
   "metadata": {
    "tags": []
   },
   "source": [
    "<details>\n",
    "  <summary><b>Lösung</b></summary>\n",
    "    \n",
    "```python\n",
    "# Model evaluation\n",
    "test_loss, test_acc = model.evaluate(X_test, y_test, batch_size=32, verbose=0)\n",
    "print('Loss:', test_loss)\n",
    "print('Accuracy:', test_acc*100, '%')\n",
    "```\n",
    "</details>"
   ]
  }
 ],
 "metadata": {
  "kernelspec": {
   "display_name": "ml_env_new",
   "language": "python",
   "name": "python3"
  },
  "language_info": {
   "codemirror_mode": {
    "name": "ipython",
    "version": 3
   },
   "file_extension": ".py",
   "mimetype": "text/x-python",
   "name": "python",
   "nbconvert_exporter": "python",
   "pygments_lexer": "ipython3",
   "version": "3.8.18"
  }
 },
 "nbformat": 4,
 "nbformat_minor": 5
}
