{
 "cells": [
  {
   "cell_type": "markdown",
   "id": "8ddc2d45-54dd-498f-837e-d524ce7ae041",
   "metadata": {},
   "source": [
    "## Erstellung eines neuronalen Netzes zur Klassifikation von Musik\n",
    "Wie trainiert man ein neuronales Netzwerk, um das Genre eines Songs zu erkennen? In dieser Aufgabe wird  \n",
    "Schritt für schritt ein neuronales Netzwerk mithilfe von bereitgestellten extrahierten Features trainiert.  \n",
    "Nach dem Training wird die Genauigkeit des Modells überprüft, um festzustellen, wie gut es in der Lage ist,  \n",
    "bestimmte Genres zu erkennen.\n",
    "\n",
    "</div>"
   ]
  },
  {
   "cell_type": "markdown",
   "id": "31c5c787-a1a0-4454-a462-a0015cd4c876",
   "metadata": {
    "tags": []
   },
   "source": [
    "<div class=\"alert alert-block alert-success\">\n",
    "&#128187; <b>Aufgabe 1:</b>\n",
    "    \n",
    "Importieren Sie alle benötigten Bibliotheken.\n",
    "    \n",
    "</div>"
   ]
  },
  {
   "cell_type": "code",
   "execution_count": 43,
   "id": "5f9a96d5-4cdc-4d2d-bb5a-d04490229450",
   "metadata": {
    "tags": []
   },
   "outputs": [],
   "source": [
    "import pandas as pd \n",
    "import numpy as np\n",
    "from sklearn.model_selection import train_test_split\n",
    "from sklearn.preprocessing import LabelEncoder\n",
    "from sklearn.preprocessing import StandardScaler\n",
    "from tensorflow import keras\n",
    "from tensorflow.keras.callbacks import EarlyStopping"
   ]
  },
  {
   "cell_type": "markdown",
   "id": "4e4ad335-5b3b-46f5-b5e1-d5150d83a413",
   "metadata": {
    "tags": []
   },
   "source": [
    "<div class=\"alert alert-block alert-success\">\n",
    "&#128187; <b>Aufgabe 2:</b>\n",
    "    \n",
    "Laden Sie die Datei data.csv mit Hilfe der Pandas-Bibliothek und der Funktion read_csv() in einen Dataframe.\n",
    "Zeigen Sie die ersten Zeilen der CSV an.\n",
    "    \n",
    "</div>"
   ]
  },
  {
   "cell_type": "code",
   "execution_count": 44,
   "id": "570825fc-6719-43d7-81ab-6a6059d63663",
   "metadata": {},
   "outputs": [
    {
     "name": "stdout",
     "output_type": "stream",
     "text": [
      "          filename  length  chroma_stft_mean  chroma_stft_var  rms_mean  \\\n",
      "0  blues.00000.wav      30          0.349951         0.088752  0.130192   \n",
      "1  blues.00001.wav      30          0.340945         0.094968  0.095892   \n",
      "2  blues.00002.wav      30          0.363562         0.085277  0.175494   \n",
      "3  blues.00003.wav      30          0.404848         0.094018  0.141139   \n",
      "4  blues.00004.wav      30          0.308598         0.087850  0.091540   \n",
      "\n",
      "    rms_var  spec_cent_mean  spec_cent_var  spec_bw_mean    spec_bw_var  ...  \\\n",
      "0  0.002830     1784.416546  129739.837401   2002.657106   85829.345908  ...   \n",
      "1  0.002374     1529.871314  376011.650101   2038.612143  213889.873843  ...   \n",
      "2  0.002753     1552.637786  156538.294709   1747.382028   76150.688778  ...   \n",
      "3  0.006340     1070.110059  184506.655421   1596.244204  166637.568438  ...   \n",
      "4  0.002305     1835.507009  343334.237041   1748.367477   88460.061228  ...   \n",
      "\n",
      "   mfcc16_var  mfcc17_mean  mfcc17_var  mfcc18_mean  mfcc18_var  mfcc19_mean  \\\n",
      "0   52.464140    -1.688358   36.564606    -0.409329   41.643627    -2.298869   \n",
      "1   55.364296    -0.717028   60.113293     0.292333   48.137740    -0.285717   \n",
      "2   40.620197    -7.721793   47.700275    -1.816497   52.418175    -3.434353   \n",
      "3   44.456993    -3.320056   50.236970     0.637263   37.351917    -0.617507   \n",
      "4   86.012780    -5.453736   75.328186    -0.924468   53.577564    -4.408076   \n",
      "\n",
      "   mfcc19_var  mfcc20_mean  mfcc20_var  label  \n",
      "0   55.076675     1.219947   46.975636  blues  \n",
      "1   51.131218     0.532144   45.823235  blues  \n",
      "2   46.630066    -2.231391   30.626228  blues  \n",
      "3   37.291164    -3.406940   31.988438  blues  \n",
      "4   62.928520   -11.701833   55.215115  blues  \n",
      "\n",
      "[5 rows x 60 columns]\n"
     ]
    }
   ],
   "source": [
    "# code\n",
    "import pandas as pd\n",
    "\n",
    "# Lesen der CSV-Datei in ein DataFrame\n",
    "df = pd.read_csv('data.csv')\n",
    "\n",
    "# Ausgabe der ersten Zeilen des DataFrames\n",
    "print(df.head())\n"
   ]
  },
  {
   "cell_type": "markdown",
   "id": "9d935894-4bae-4f29-91bf-5be42d624fbb",
   "metadata": {
    "tags": []
   },
   "source": [
    "<div class=\"alert alert-block alert-success\">\n",
    "&#128187; <b>Aufgabe 3:</b>\n",
    "    \n",
    "Welche Spalten sind als Features für das neuonale Netz ungeeignet? Entfernen Sie diese Spalten aus dem Dataframe.\n",
    "    \n",
    "</div>"
   ]
  },
  {
   "cell_type": "code",
   "execution_count": null,
   "id": "9e7e9c2e-1aad-4bab-8fd1-ab538a7846ff",
   "metadata": {},
   "outputs": [
    {
     "name": "stdout",
     "output_type": "stream",
     "text": [
      "Index(['length', 'chroma_stft_mean', 'chroma_stft_var', 'rms_mean', 'rms_var',\n",
      "       'spec_cent_mean', 'spec_cent_var', 'spec_bw_mean', 'spec_bw_var',\n",
      "       'rolloff_mean', 'rolloff_var', 'zcr_mean', 'zcr_var', 'harmony_mean',\n",
      "       'harmony_var', 'perceptr_mean', 'perceptr_var', 'tempo', 'mfcc1_mean',\n",
      "       'mfcc1_var', 'mfcc2_mean', 'mfcc2_var', 'mfcc3_mean', 'mfcc3_var',\n",
      "       'mfcc4_mean', 'mfcc4_var', 'mfcc5_mean', 'mfcc5_var', 'mfcc6_mean',\n",
      "       'mfcc6_var', 'mfcc7_mean', 'mfcc7_var', 'mfcc8_mean', 'mfcc8_var',\n",
      "       'mfcc9_mean', 'mfcc9_var', 'mfcc10_mean', 'mfcc10_var', 'mfcc11_mean',\n",
      "       'mfcc11_var', 'mfcc12_mean', 'mfcc12_var', 'mfcc13_mean', 'mfcc13_var',\n",
      "       'mfcc14_mean', 'mfcc14_var', 'mfcc15_mean', 'mfcc15_var', 'mfcc16_mean',\n",
      "       'mfcc16_var', 'mfcc17_mean', 'mfcc17_var', 'mfcc18_mean', 'mfcc18_var',\n",
      "       'mfcc19_mean', 'mfcc19_var', 'mfcc20_mean', 'mfcc20_var', 'label'],\n",
      "      dtype='object')\n",
      "Entfernte Spalten: ['filename']\n",
      "chroma_stft_mean    float64\n",
      "chroma_stft_var     float64\n",
      "rms_mean            float64\n",
      "rms_var             float64\n",
      "spec_cent_mean      float64\n",
      "spec_cent_var       float64\n",
      "spec_bw_mean        float64\n",
      "spec_bw_var         float64\n",
      "rolloff_mean        float64\n",
      "rolloff_var         float64\n",
      "zcr_mean            float64\n",
      "zcr_var             float64\n",
      "harmony_mean        float64\n",
      "harmony_var         float64\n",
      "perceptr_mean       float64\n",
      "perceptr_var        float64\n",
      "tempo               float64\n",
      "mfcc1_mean          float64\n",
      "mfcc1_var           float64\n",
      "mfcc2_mean          float64\n",
      "mfcc2_var           float64\n",
      "mfcc3_mean          float64\n",
      "mfcc3_var           float64\n",
      "mfcc4_mean          float64\n",
      "mfcc4_var           float64\n",
      "mfcc5_mean          float64\n",
      "mfcc5_var           float64\n",
      "mfcc6_mean          float64\n",
      "mfcc6_var           float64\n",
      "mfcc7_mean          float64\n",
      "mfcc7_var           float64\n",
      "mfcc8_mean          float64\n",
      "mfcc8_var           float64\n",
      "mfcc9_mean          float64\n",
      "mfcc9_var           float64\n",
      "mfcc10_mean         float64\n",
      "mfcc10_var          float64\n",
      "mfcc11_mean         float64\n",
      "mfcc11_var          float64\n",
      "mfcc12_mean         float64\n",
      "mfcc12_var          float64\n",
      "mfcc13_mean         float64\n",
      "mfcc13_var          float64\n",
      "mfcc14_mean         float64\n",
      "mfcc14_var          float64\n",
      "mfcc15_mean         float64\n",
      "mfcc15_var          float64\n",
      "mfcc16_mean         float64\n",
      "mfcc16_var          float64\n",
      "mfcc17_mean         float64\n",
      "mfcc17_var          float64\n",
      "mfcc18_mean         float64\n",
      "mfcc18_var          float64\n",
      "mfcc19_mean         float64\n",
      "mfcc19_var          float64\n",
      "mfcc20_mean         float64\n",
      "mfcc20_var          float64\n",
      "label                object\n",
      "dtype: object\n",
      "   chroma_stft_mean  chroma_stft_var  rms_mean   rms_var  spec_cent_mean  \\\n",
      "0          0.349951         0.088752  0.130192  0.002830     1784.416546   \n",
      "1          0.340945         0.094968  0.095892  0.002374     1529.871314   \n",
      "2          0.363562         0.085277  0.175494  0.002753     1552.637786   \n",
      "3          0.404848         0.094018  0.141139  0.006340     1070.110059   \n",
      "4          0.308598         0.087850  0.091540  0.002305     1835.507009   \n",
      "\n",
      "   spec_cent_var  spec_bw_mean    spec_bw_var  rolloff_mean   rolloff_var  \\\n",
      "0  129739.837401   2002.657106   85829.345908   3806.418650  9.013297e+05   \n",
      "1  376011.650101   2038.612143  213889.873843   3548.986873  2.976792e+06   \n",
      "2  156538.294709   1747.382028   76150.688778   3041.089944  7.829465e+05   \n",
      "3  184506.655421   1596.244204  166637.568438   2185.061787  1.494194e+06   \n",
      "4  343334.237041   1748.367477   88460.061228   3581.003346  1.572133e+06   \n",
      "\n",
      "   ...  mfcc16_var  mfcc17_mean  mfcc17_var  mfcc18_mean  mfcc18_var  \\\n",
      "0  ...   52.464140    -1.688358   36.564606    -0.409329   41.643627   \n",
      "1  ...   55.364296    -0.717028   60.113293     0.292333   48.137740   \n",
      "2  ...   40.620197    -7.721793   47.700275    -1.816497   52.418175   \n",
      "3  ...   44.456993    -3.320056   50.236970     0.637263   37.351917   \n",
      "4  ...   86.012780    -5.453736   75.328186    -0.924468   53.577564   \n",
      "\n",
      "   mfcc19_mean  mfcc19_var  mfcc20_mean  mfcc20_var  label  \n",
      "0    -2.298869   55.076675     1.219947   46.975636  blues  \n",
      "1    -0.285717   51.131218     0.532144   45.823235  blues  \n",
      "2    -3.434353   46.630066    -2.231391   30.626228  blues  \n",
      "3    -0.617507   37.291164    -3.406940   31.988438  blues  \n",
      "4    -4.408076   62.928520   -11.701833   55.215115  blues  \n",
      "\n",
      "[5 rows x 58 columns]\n"
     ]
    }
   ],
   "source": [
    "# Identifizieren der nicht-numerischen Spalten im DataFrame\n",
    "non_numeric_columns = df.select_dtypes(exclude=[np.number]).columns\n",
    "\n",
    "# Entfernen aller nicht-numerischen Spalten außer 'label'\n",
    "columns_to_drop = [col for col in non_numeric_columns if col != 'label']\n",
    "df.drop(columns=columns_to_drop, inplace=True)\n",
    "print(df.columns)\n",
    "df.drop(columns=['length'], inplace=True)\n",
    "\n",
    "# So könnte ein für das Modell aussagekräftigeres Feature entstehen\n",
    "print(\"Entfernte Spalten:\", columns_to_drop)\n",
    "print(df.dtypes)\n",
    "print(df.head())"
   ]
  },
  {
   "cell_type": "markdown",
   "id": "99c4a07a-6276-4902-90f9-6ff607a1ea8c",
   "metadata": {
    "tags": []
   },
   "source": [
    "<div class=\"alert alert-block alert-success\">\n",
    "&#128187; <b>Aufgabe 4:</b>\n",
    "    \n",
    "Wandeln Sie die Spalte label mit Hilfe der Bibliothek \"sklearn.preprocessing\" und des \"LabelEncoder()\" in Zahlenwerte um.\n",
    "    \n",
    "</div>"
   ]
  },
  {
   "cell_type": "code",
   "execution_count": 46,
   "id": "a086128f-7dc7-4e30-8685-9e4919a3bc41",
   "metadata": {},
   "outputs": [
    {
     "name": "stdout",
     "output_type": "stream",
     "text": [
      "Verfügbare Spalten: Index(['chroma_stft_mean', 'chroma_stft_var', 'rms_mean', 'rms_var',\n",
      "       'spec_cent_mean', 'spec_cent_var', 'spec_bw_mean', 'spec_bw_var',\n",
      "       'rolloff_mean', 'rolloff_var', 'zcr_mean', 'zcr_var', 'harmony_mean',\n",
      "       'harmony_var', 'perceptr_mean', 'perceptr_var', 'tempo', 'mfcc1_mean',\n",
      "       'mfcc1_var', 'mfcc2_mean', 'mfcc2_var', 'mfcc3_mean', 'mfcc3_var',\n",
      "       'mfcc4_mean', 'mfcc4_var', 'mfcc5_mean', 'mfcc5_var', 'mfcc6_mean',\n",
      "       'mfcc6_var', 'mfcc7_mean', 'mfcc7_var', 'mfcc8_mean', 'mfcc8_var',\n",
      "       'mfcc9_mean', 'mfcc9_var', 'mfcc10_mean', 'mfcc10_var', 'mfcc11_mean',\n",
      "       'mfcc11_var', 'mfcc12_mean', 'mfcc12_var', 'mfcc13_mean', 'mfcc13_var',\n",
      "       'mfcc14_mean', 'mfcc14_var', 'mfcc15_mean', 'mfcc15_var', 'mfcc16_mean',\n",
      "       'mfcc16_var', 'mfcc17_mean', 'mfcc17_var', 'mfcc18_mean', 'mfcc18_var',\n",
      "       'mfcc19_mean', 'mfcc19_var', 'mfcc20_mean', 'mfcc20_var', 'label'],\n",
      "      dtype='object')\n",
      "   chroma_stft_mean  chroma_stft_var  rms_mean   rms_var  spec_cent_mean  \\\n",
      "0          0.349951         0.088752  0.130192  0.002830     1784.416546   \n",
      "1          0.340945         0.094968  0.095892  0.002374     1529.871314   \n",
      "2          0.363562         0.085277  0.175494  0.002753     1552.637786   \n",
      "3          0.404848         0.094018  0.141139  0.006340     1070.110059   \n",
      "4          0.308598         0.087850  0.091540  0.002305     1835.507009   \n",
      "\n",
      "   spec_cent_var  spec_bw_mean    spec_bw_var  rolloff_mean   rolloff_var  \\\n",
      "0  129739.837401   2002.657106   85829.345908   3806.418650  9.013297e+05   \n",
      "1  376011.650101   2038.612143  213889.873843   3548.986873  2.976792e+06   \n",
      "2  156538.294709   1747.382028   76150.688778   3041.089944  7.829465e+05   \n",
      "3  184506.655421   1596.244204  166637.568438   2185.061787  1.494194e+06   \n",
      "4  343334.237041   1748.367477   88460.061228   3581.003346  1.572133e+06   \n",
      "\n",
      "   ...  mfcc16_var  mfcc17_mean  mfcc17_var  mfcc18_mean  mfcc18_var  \\\n",
      "0  ...   52.464140    -1.688358   36.564606    -0.409329   41.643627   \n",
      "1  ...   55.364296    -0.717028   60.113293     0.292333   48.137740   \n",
      "2  ...   40.620197    -7.721793   47.700275    -1.816497   52.418175   \n",
      "3  ...   44.456993    -3.320056   50.236970     0.637263   37.351917   \n",
      "4  ...   86.012780    -5.453736   75.328186    -0.924468   53.577564   \n",
      "\n",
      "   mfcc19_mean  mfcc19_var  mfcc20_mean  mfcc20_var  label  \n",
      "0    -2.298869   55.076675     1.219947   46.975636      0  \n",
      "1    -0.285717   51.131218     0.532144   45.823235      0  \n",
      "2    -3.434353   46.630066    -2.231391   30.626228      0  \n",
      "3    -0.617507   37.291164    -3.406940   31.988438      0  \n",
      "4    -4.408076   62.928520   -11.701833   55.215115      0  \n",
      "\n",
      "[5 rows x 58 columns]\n"
     ]
    }
   ],
   "source": [
    "# Ausgabe der in df existierenden Spalten\n",
    "print(\"Verfügbare Spalten:\", df.columns)\n",
    "\n",
    "# Falls die Spalte 'label' vorhanden ist, wird sie enkodiert\n",
    "if 'label' in df.columns:\n",
    "    from sklearn.preprocessing import LabelEncoder\n",
    "    le = LabelEncoder()\n",
    "    df['label'] = le.fit_transform(df['label'])\n",
    "    print(df.head())\n",
    "else:\n",
    "    print(\"Spalte 'label' nicht gefunden. Bitte überprüfe den Spaltennamen.\")"
   ]
  },
  {
   "cell_type": "markdown",
   "id": "ef06f3ee-de2d-4ece-8ebc-7a1996b7d06c",
   "metadata": {
    "tags": []
   },
   "source": [
    "<div class=\"alert alert-block alert-success\">\n",
    "&#128187; <b>Aufgabe 5:</b>\n",
    "    \n",
    "Skalieren Sie alle passenden Werte mit Hilfe der Bibliothek \"sklearn.preprocessing\" und des \"StandardScaler()\".\n",
    "    \n",
    "</div>"
   ]
  },
  {
   "cell_type": "code",
   "execution_count": 47,
   "id": "a2996c86-bc6d-4ce1-9b20-2131a1e00f04",
   "metadata": {},
   "outputs": [
    {
     "name": "stdout",
     "output_type": "stream",
     "text": [
      "   chroma_stft_mean  chroma_stft_var  rms_mean   rms_var  spec_cent_mean  \\\n",
      "0         -0.353326         0.310527 -0.009918 -0.060767       -0.584047   \n",
      "1         -0.463630         1.113497 -0.532379 -0.186311       -0.939687   \n",
      "2         -0.186606        -0.138363  0.680115 -0.082164       -0.907879   \n",
      "3          0.319097         0.990764  0.156829  0.904732       -1.582047   \n",
      "4         -0.859836         0.194041 -0.598658 -0.205287       -0.512666   \n",
      "\n",
      "   spec_cent_var  spec_bw_mean  spec_bw_var  rolloff_mean  rolloff_var  ...  \\\n",
      "0      -0.848699     -0.456189    -0.530287     -0.486930    -0.661423  ...   \n",
      "1      -0.234104     -0.387872     0.797626     -0.650451     0.795445  ...   \n",
      "2      -0.781821     -0.941229    -0.630649     -0.973070    -0.744521  ...   \n",
      "3      -0.712023     -1.228402     0.307647     -1.516824    -0.245263  ...   \n",
      "4      -0.315653     -0.939357    -0.503008     -0.630114    -0.190554  ...   \n",
      "\n",
      "   mfcc16_var  mfcc17_mean  mfcc17_var  mfcc18_mean  mfcc18_var  mfcc19_mean  \\\n",
      "0   -0.244432     0.500821   -0.778258    -0.237364   -0.641144     0.008075   \n",
      "1   -0.158557     0.714276   -0.074694    -0.056018   -0.452342     0.544133   \n",
      "2   -0.595139    -0.825062   -0.445558    -0.601049   -0.327897    -0.294279   \n",
      "3   -0.481529     0.142246   -0.369769     0.033129   -0.765916     0.455784   \n",
      "4    0.748966    -0.326643    0.379882    -0.370503   -0.294190    -0.553560   \n",
      "\n",
      "   mfcc19_var  mfcc20_mean  mfcc20_var  label  \n",
      "0   -0.299921     0.603133   -0.510715      0  \n",
      "1   -0.406015     0.423908   -0.536200      0  \n",
      "2   -0.527053    -0.296204   -0.872273      0  \n",
      "3   -0.778178    -0.602524   -0.842148      0  \n",
      "4   -0.088783    -2.763978   -0.328504      0  \n",
      "\n",
      "[5 rows x 58 columns]\n"
     ]
    }
   ],
   "source": [
    "# code\n",
    "from sklearn.preprocessing import StandardScaler\n",
    "\n",
    "# Initialisieren des StandardScalers\n",
    "scaler = StandardScaler()\n",
    "\n",
    "# Skalieren aller numerischen Spalten außer der Zielspalte 'label'\n",
    "numeric_columns = df.select_dtypes(include=[np.number]).columns\n",
    "columns_to_scale = [col for col in numeric_columns if col != 'label']\n",
    "\n",
    "df[columns_to_scale] = scaler.fit_transform(df[columns_to_scale])\n",
    "\n",
    "# Ausgabe der skalierten Werte\n",
    "print(df.head())"
   ]
  },
  {
   "cell_type": "markdown",
   "id": "8b15ecb7-3d4a-4b2a-8ec9-a9c4136ec31a",
   "metadata": {
    "tags": []
   },
   "source": [
    "<div class=\"alert alert-block alert-success\">\n",
    "&#128187; <b>Aufgabe 6:</b>\n",
    "    \n",
    "Teilen Sie das Dataset in Trainings- und Testdaten auf und beschränken Sie die Testdaten auf 10%.\n",
    "    \n",
    "</div>"
   ]
  },
  {
   "cell_type": "code",
   "execution_count": 48,
   "id": "d805a943-d49e-47a7-9203-cfb273ffe382",
   "metadata": {},
   "outputs": [
    {
     "name": "stdout",
     "output_type": "stream",
     "text": [
      "Trainingsdaten: (899, 57), Testdaten: (100, 57)\n"
     ]
    }
   ],
   "source": [
    "# code\n",
    "from sklearn.model_selection import train_test_split\n",
    "\n",
    "# Annahme: 'label' ist die Zielspalte\n",
    "X = df.drop(columns=['label'])  # Features\n",
    "y = df['label']  # Zielvariable\n",
    "\n",
    "\n",
    "# Aufteilen in Trainings- und Testdaten (10% Testdaten)\n",
    "X_train, X_test, y_train, y_test = train_test_split(X, y, test_size=0.1, random_state=42)\n",
    "\n",
    "# Ausgabe der Größen der Datensätze\n",
    "print(f\"Trainingsdaten: {X_train.shape}, Testdaten: {X_test.shape}\")"
   ]
  },
  {
   "cell_type": "markdown",
   "id": "674606eb-bccd-4052-8805-a24a39df3af3",
   "metadata": {
    "tags": []
   },
   "source": [
    "<div class=\"alert alert-block alert-success\">\n",
    "&#128187; <b>Aufgabe 7:</b>\n",
    "    \n",
    "Erstellen Sie mit \"keras.models.Sequential()\" ein Model mit mehreren Layern. Zwischen den Layern soll ein Dropout von 30% und eine BatchNormalization() durchgeführt werden. \n",
    "    \n",
    "</div>"
   ]
  },
  {
   "cell_type": "code",
   "execution_count": 49,
   "id": "f37285ef-2716-4212-9668-132809c5efff",
   "metadata": {},
   "outputs": [
    {
     "name": "stdout",
     "output_type": "stream",
     "text": [
      "Model: \"sequential_4\"\n",
      "_________________________________________________________________\n",
      " Layer (type)                Output Shape              Param #   \n",
      "=================================================================\n",
      " dense_16 (Dense)            (None, 128)               7424      \n",
      "                                                                 \n",
      " batch_normalization_12 (Bat  (None, 128)              512       \n",
      " chNormalization)                                                \n",
      "                                                                 \n",
      " dropout_12 (Dropout)        (None, 128)               0         \n",
      "                                                                 \n",
      " dense_17 (Dense)            (None, 64)                8256      \n",
      "                                                                 \n",
      " batch_normalization_13 (Bat  (None, 64)               256       \n",
      " chNormalization)                                                \n",
      "                                                                 \n",
      " dropout_13 (Dropout)        (None, 64)                0         \n",
      "                                                                 \n",
      " dense_18 (Dense)            (None, 32)                2080      \n",
      "                                                                 \n",
      " batch_normalization_14 (Bat  (None, 32)               128       \n",
      " chNormalization)                                                \n",
      "                                                                 \n",
      " dropout_14 (Dropout)        (None, 32)                0         \n",
      "                                                                 \n",
      " dense_19 (Dense)            (None, 10)                330       \n",
      "                                                                 \n",
      "=================================================================\n",
      "Total params: 18,986\n",
      "Trainable params: 18,538\n",
      "Non-trainable params: 448\n",
      "_________________________________________________________________\n"
     ]
    }
   ],
   "source": [
    "# code\n",
    "from keras.models import Sequential\n",
    "from keras.layers import Dense, Dropout, BatchNormalization\n",
    "\n",
    "# Initialisieren des Modells\n",
    "model = Sequential()\n",
    "\n",
    "# Hinzufügen der Eingabeschicht (Anzahl der Eingaben = Anzahl der Features)\n",
    "model.add(Dense(128, activation='relu', input_shape=(X_train.shape[1],)))\n",
    "\n",
    "# Hinzufügen von BatchNormalization und Dropout\n",
    "model.add(BatchNormalization())\n",
    "model.add(Dropout(0.3))\n",
    "\n",
    "# Hinzufügen einer versteckten Schicht\n",
    "model.add(Dense(64, activation='relu'))\n",
    "model.add(BatchNormalization())\n",
    "model.add(Dropout(0.3))\n",
    "\n",
    "# Hinzufügen einer weiteren versteckten Schicht\n",
    "model.add(Dense(32, activation='relu'))\n",
    "model.add(BatchNormalization())\n",
    "model.add(Dropout(0.3))\n",
    "\n",
    "# Hinzufügen der Ausgabeschicht (Anzahl der Ausgaben = Anzahl der Klassen)\n",
    "model.add(Dense(len(y.unique()), activation='softmax'))\n",
    "\n",
    "# Zusammenfassung des Modells\n",
    "model.summary()"
   ]
  },
  {
   "cell_type": "markdown",
   "id": "ebb75f0c-9694-4a53-95b9-b133f99df87d",
   "metadata": {
    "tags": []
   },
   "source": [
    "<div class=\"alert alert-block alert-success\">\n",
    "&#128187; <b>Aufgabe 8:</b>\n",
    "    \n",
    "Konfigurieren Sie das Model so, damit folgende Parameter verwendet werden: optimizer='adam', loss='sparse_categorical_crossentropy', metrics=['accuracy']\n",
    "</div>"
   ]
  },
  {
   "cell_type": "code",
   "execution_count": 50,
   "id": "8000f615-5939-4db8-831f-62baab030bd9",
   "metadata": {},
   "outputs": [
    {
     "name": "stdout",
     "output_type": "stream",
     "text": [
      "Modell erfolgreich konfiguriert.\n"
     ]
    }
   ],
   "source": [
    "# code\n",
    "# Kompilieren des Modells mit den angegebenen Parametern\n",
    "model.compile(optimizer='adam', \n",
    "              loss='sparse_categorical_crossentropy', \n",
    "              metrics=['accuracy'])\n",
    "\n",
    "# Ausgabe der Modellkonfiguration\n",
    "print(\"Modell erfolgreich konfiguriert.\")"
   ]
  },
  {
   "cell_type": "markdown",
   "id": "d1cc1207-ed38-4113-959f-2267b8122b9d",
   "metadata": {
    "tags": []
   },
   "source": [
    "<div class=\"alert alert-block alert-success\">\n",
    "&#128187; <b>Aufgabe 9:</b>\n",
    "    \n",
    "Trainieren Sie das Model mit 200 Epochen und einer batch_size von 32. Bei Bedarf kann auch ein EarlyStopping Callback eingesetzt werden. Für das Training wird die Methode fit() verwendet.\n",
    "</div>"
   ]
  },
  {
   "cell_type": "code",
   "execution_count": 51,
   "id": "f168ac7e-f81e-44ba-b3c6-04de7af86b86",
   "metadata": {},
   "outputs": [
    {
     "name": "stdout",
     "output_type": "stream",
     "text": [
      "Epoch 1/200\n",
      "26/26 [==============================] - 2s 26ms/step - loss: 2.6558 - accuracy: 0.1842 - val_loss: 2.0916 - val_accuracy: 0.2667\n",
      "Epoch 2/200\n",
      "26/26 [==============================] - 0s 6ms/step - loss: 2.1695 - accuracy: 0.2917 - val_loss: 1.8670 - val_accuracy: 0.3778\n",
      "Epoch 3/200\n",
      "26/26 [==============================] - 0s 5ms/step - loss: 1.8301 - accuracy: 0.3733 - val_loss: 1.7125 - val_accuracy: 0.4333\n",
      "Epoch 4/200\n",
      "26/26 [==============================] - 0s 5ms/step - loss: 1.7145 - accuracy: 0.3993 - val_loss: 1.5585 - val_accuracy: 0.4556\n",
      "Epoch 5/200\n",
      "26/26 [==============================] - 0s 5ms/step - loss: 1.6123 - accuracy: 0.4277 - val_loss: 1.4249 - val_accuracy: 0.5111\n",
      "Epoch 6/200\n",
      "26/26 [==============================] - 0s 5ms/step - loss: 1.5057 - accuracy: 0.4821 - val_loss: 1.3243 - val_accuracy: 0.5333\n",
      "Epoch 7/200\n",
      "26/26 [==============================] - 0s 5ms/step - loss: 1.4338 - accuracy: 0.4981 - val_loss: 1.2292 - val_accuracy: 0.5111\n",
      "Epoch 8/200\n",
      "26/26 [==============================] - 0s 5ms/step - loss: 1.3873 - accuracy: 0.5155 - val_loss: 1.1435 - val_accuracy: 0.5778\n",
      "Epoch 9/200\n",
      "26/26 [==============================] - 0s 6ms/step - loss: 1.3204 - accuracy: 0.5315 - val_loss: 1.0915 - val_accuracy: 0.5667\n",
      "Epoch 10/200\n",
      "26/26 [==============================] - 0s 5ms/step - loss: 1.2762 - accuracy: 0.5624 - val_loss: 1.0312 - val_accuracy: 0.6000\n",
      "Epoch 11/200\n",
      "26/26 [==============================] - 0s 5ms/step - loss: 1.2305 - accuracy: 0.5933 - val_loss: 0.9729 - val_accuracy: 0.6444\n",
      "Epoch 12/200\n",
      "26/26 [==============================] - 0s 5ms/step - loss: 1.1648 - accuracy: 0.5933 - val_loss: 0.9554 - val_accuracy: 0.6444\n",
      "Epoch 13/200\n",
      "26/26 [==============================] - 0s 5ms/step - loss: 1.1541 - accuracy: 0.6119 - val_loss: 0.9095 - val_accuracy: 0.6556\n",
      "Epoch 14/200\n",
      "26/26 [==============================] - 0s 5ms/step - loss: 1.0660 - accuracy: 0.6242 - val_loss: 0.8669 - val_accuracy: 0.6778\n",
      "Epoch 15/200\n",
      "26/26 [==============================] - 0s 5ms/step - loss: 1.0877 - accuracy: 0.6279 - val_loss: 0.8446 - val_accuracy: 0.6667\n",
      "Epoch 16/200\n",
      "26/26 [==============================] - 0s 5ms/step - loss: 1.0942 - accuracy: 0.6267 - val_loss: 0.8251 - val_accuracy: 0.6889\n",
      "Epoch 17/200\n",
      "26/26 [==============================] - 0s 5ms/step - loss: 1.0366 - accuracy: 0.6292 - val_loss: 0.8007 - val_accuracy: 0.7111\n",
      "Epoch 18/200\n",
      "26/26 [==============================] - 0s 5ms/step - loss: 0.9905 - accuracy: 0.6675 - val_loss: 0.7926 - val_accuracy: 0.7000\n",
      "Epoch 19/200\n",
      "26/26 [==============================] - 0s 6ms/step - loss: 1.0323 - accuracy: 0.6329 - val_loss: 0.7816 - val_accuracy: 0.6889\n",
      "Epoch 20/200\n",
      "26/26 [==============================] - 0s 5ms/step - loss: 0.9583 - accuracy: 0.6625 - val_loss: 0.7747 - val_accuracy: 0.7000\n",
      "Epoch 21/200\n",
      "26/26 [==============================] - 0s 5ms/step - loss: 0.9105 - accuracy: 0.6934 - val_loss: 0.7788 - val_accuracy: 0.6778\n",
      "Epoch 22/200\n",
      "26/26 [==============================] - 0s 5ms/step - loss: 0.8924 - accuracy: 0.7108 - val_loss: 0.7559 - val_accuracy: 0.7111\n",
      "Epoch 23/200\n",
      "26/26 [==============================] - 0s 5ms/step - loss: 0.9058 - accuracy: 0.6774 - val_loss: 0.7390 - val_accuracy: 0.7000\n",
      "Epoch 24/200\n",
      "26/26 [==============================] - 0s 7ms/step - loss: 0.9064 - accuracy: 0.6947 - val_loss: 0.7222 - val_accuracy: 0.6889\n",
      "Epoch 25/200\n",
      "26/26 [==============================] - 0s 5ms/step - loss: 0.8259 - accuracy: 0.7342 - val_loss: 0.7316 - val_accuracy: 0.6889\n",
      "Epoch 26/200\n",
      "26/26 [==============================] - 0s 5ms/step - loss: 0.8232 - accuracy: 0.7145 - val_loss: 0.7368 - val_accuracy: 0.6778\n",
      "Epoch 27/200\n",
      "26/26 [==============================] - 0s 6ms/step - loss: 0.8063 - accuracy: 0.7305 - val_loss: 0.7164 - val_accuracy: 0.7111\n",
      "Epoch 28/200\n",
      "26/26 [==============================] - 0s 5ms/step - loss: 0.7477 - accuracy: 0.7478 - val_loss: 0.7026 - val_accuracy: 0.7222\n",
      "Epoch 29/200\n",
      "26/26 [==============================] - 0s 5ms/step - loss: 0.7798 - accuracy: 0.7491 - val_loss: 0.7133 - val_accuracy: 0.7111\n",
      "Epoch 30/200\n",
      "26/26 [==============================] - 0s 5ms/step - loss: 0.7907 - accuracy: 0.7318 - val_loss: 0.7147 - val_accuracy: 0.7111\n",
      "Epoch 31/200\n",
      "26/26 [==============================] - 0s 5ms/step - loss: 0.7551 - accuracy: 0.7404 - val_loss: 0.6970 - val_accuracy: 0.7111\n",
      "Epoch 32/200\n",
      "26/26 [==============================] - 0s 5ms/step - loss: 0.7647 - accuracy: 0.7515 - val_loss: 0.7258 - val_accuracy: 0.6778\n",
      "Epoch 33/200\n",
      "26/26 [==============================] - 0s 5ms/step - loss: 0.6882 - accuracy: 0.7824 - val_loss: 0.7036 - val_accuracy: 0.6889\n",
      "Epoch 34/200\n",
      "26/26 [==============================] - 0s 5ms/step - loss: 0.6890 - accuracy: 0.7713 - val_loss: 0.6675 - val_accuracy: 0.7111\n",
      "Epoch 35/200\n",
      "26/26 [==============================] - 0s 5ms/step - loss: 0.6807 - accuracy: 0.7763 - val_loss: 0.6677 - val_accuracy: 0.7111\n",
      "Epoch 36/200\n",
      "26/26 [==============================] - 0s 5ms/step - loss: 0.7026 - accuracy: 0.7874 - val_loss: 0.7082 - val_accuracy: 0.6889\n",
      "Epoch 37/200\n",
      "26/26 [==============================] - 0s 5ms/step - loss: 0.6713 - accuracy: 0.7787 - val_loss: 0.6606 - val_accuracy: 0.7333\n",
      "Epoch 38/200\n",
      "26/26 [==============================] - 0s 5ms/step - loss: 0.6323 - accuracy: 0.7923 - val_loss: 0.6790 - val_accuracy: 0.6889\n",
      "Epoch 39/200\n",
      "26/26 [==============================] - 0s 5ms/step - loss: 0.5722 - accuracy: 0.8146 - val_loss: 0.6555 - val_accuracy: 0.7111\n",
      "Epoch 40/200\n",
      "26/26 [==============================] - 0s 5ms/step - loss: 0.6083 - accuracy: 0.7911 - val_loss: 0.6883 - val_accuracy: 0.7222\n",
      "Epoch 41/200\n",
      "26/26 [==============================] - 0s 5ms/step - loss: 0.6388 - accuracy: 0.7800 - val_loss: 0.6645 - val_accuracy: 0.7444\n",
      "Epoch 42/200\n",
      "26/26 [==============================] - 0s 5ms/step - loss: 0.6157 - accuracy: 0.7849 - val_loss: 0.6809 - val_accuracy: 0.7222\n",
      "Epoch 43/200\n",
      "26/26 [==============================] - 0s 5ms/step - loss: 0.6106 - accuracy: 0.7973 - val_loss: 0.7083 - val_accuracy: 0.7000\n",
      "Epoch 44/200\n",
      "26/26 [==============================] - 0s 5ms/step - loss: 0.5989 - accuracy: 0.8035 - val_loss: 0.7036 - val_accuracy: 0.7000\n",
      "Epoch 45/200\n",
      "26/26 [==============================] - 0s 5ms/step - loss: 0.5733 - accuracy: 0.8245 - val_loss: 0.6771 - val_accuracy: 0.7222\n",
      "Epoch 46/200\n",
      "26/26 [==============================] - 0s 5ms/step - loss: 0.6412 - accuracy: 0.7775 - val_loss: 0.6883 - val_accuracy: 0.6889\n",
      "Epoch 47/200\n",
      "26/26 [==============================] - 0s 5ms/step - loss: 0.6171 - accuracy: 0.7936 - val_loss: 0.6815 - val_accuracy: 0.7000\n",
      "Epoch 48/200\n",
      "26/26 [==============================] - 0s 5ms/step - loss: 0.5620 - accuracy: 0.8269 - val_loss: 0.6721 - val_accuracy: 0.7444\n",
      "Epoch 49/200\n",
      "26/26 [==============================] - 0s 5ms/step - loss: 0.5309 - accuracy: 0.8195 - val_loss: 0.6773 - val_accuracy: 0.7333\n",
      "Training abgeschlossen.\n"
     ]
    }
   ],
   "source": [
    "# code\n",
    "from keras.callbacks import EarlyStopping\n",
    "\n",
    "# Optional: EarlyStopping Callback, um das Training zu stoppen, wenn sich die Validierungsleistung nicht verbessert\n",
    "early_stopping = EarlyStopping(monitor='val_loss', patience=10, restore_best_weights=True)\n",
    "\n",
    "# Trainieren des Modells\n",
    "history = model.fit(X_train, y_train, \n",
    "                    epochs=200, \n",
    "                    batch_size=32, \n",
    "                    validation_split=0.1, \n",
    "                    callbacks=[early_stopping], \n",
    "                    verbose=1)\n",
    "\n",
    "# Ausgabe der Trainingshistorie\n",
    "print(\"Training abgeschlossen.\")"
   ]
  },
  {
   "cell_type": "markdown",
   "id": "e083d03d-254d-4e19-9ee7-0d3773475789",
   "metadata": {
    "tags": []
   },
   "source": [
    "<div class=\"alert alert-block alert-success\">\n",
    "&#128187; <b>Aufgabe 10:</b>\n",
    "    \n",
    "Evaluieren Sie das Model mit der evaluate() Methode und geben Sie den 'loss' und die 'accuracy' aus.\n",
    "</div>"
   ]
  },
  {
   "cell_type": "code",
   "execution_count": 52,
   "id": "b357fffe-45d0-4345-8472-e05d4b8b21c7",
   "metadata": {},
   "outputs": [
    {
     "name": "stdout",
     "output_type": "stream",
     "text": [
      "4/4 [==============================] - 0s 3ms/step - loss: 0.7310 - accuracy: 0.7700\n",
      "Loss: 0.7310336828231812\n",
      "Accuracy: 0.7699999809265137\n"
     ]
    }
   ],
   "source": [
    "# code\n",
    "# Evaluieren des Modells auf den Testdaten\n",
    "loss, accuracy = model.evaluate(X_test, y_test, verbose=1)\n",
    "\n",
    "# Ausgabe von Loss und Accuracy\n",
    "print(f\"Loss: {loss}\")\n",
    "print(f\"Accuracy: {accuracy}\")"
   ]
  }
 ],
 "metadata": {
  "kernelspec": {
   "display_name": "ml_env_new",
   "language": "python",
   "name": "python3"
  },
  "language_info": {
   "codemirror_mode": {
    "name": "ipython",
    "version": 3
   },
   "file_extension": ".py",
   "mimetype": "text/x-python",
   "name": "python",
   "nbconvert_exporter": "python",
   "pygments_lexer": "ipython3",
   "version": "3.8.18"
  }
 },
 "nbformat": 4,
 "nbformat_minor": 5
}
